{
 "cells": [
  {
   "cell_type": "code",
   "execution_count": 1,
   "metadata": {},
   "outputs": [
    {
     "ename": "NameError",
     "evalue": "name 'main' is not defined",
     "output_type": "error",
     "traceback": [
      "\u001b[0;31m---------------------------------------------------------------------------\u001b[0m",
      "\u001b[0;31mNameError\u001b[0m                                 Traceback (most recent call last)",
      "\u001b[0;32m<ipython-input-1-e0f8dde8ccb5>\u001b[0m in \u001b[0;36m<module>\u001b[0;34m()\u001b[0m\n\u001b[1;32m    180\u001b[0m \u001b[0;31m# Turtle done\u001b[0m\u001b[0;34m\u001b[0m\u001b[0;34m\u001b[0m\u001b[0m\n\u001b[1;32m    181\u001b[0m \u001b[0mturtle\u001b[0m\u001b[0;34m.\u001b[0m\u001b[0mdone\u001b[0m\u001b[0;34m(\u001b[0m\u001b[0;34m)\u001b[0m\u001b[0;34m\u001b[0m\u001b[0m\n\u001b[0;32m--> 182\u001b[0;31m \u001b[0mmain\u001b[0m\u001b[0;34m(\u001b[0m\u001b[0;34m)\u001b[0m\u001b[0;34m\u001b[0m\u001b[0m\n\u001b[0m",
      "\u001b[0;31mNameError\u001b[0m: name 'main' is not defined"
     ]
    }
   ],
   "source": "import math, random, turtle\n\ntries = int(turtle.textinput('User input','Input number of needles to be thrown:'))\n\n# Set up turtle\nturtle.setworldcoordinates(-12, -12, 12, 12)\nturtle.setup()\nt = turtle.Turtle()\nwn = t.getscreen()\nt.hideturtle()\ntr = max(10, tries/10) \nwn.tracer(tr,0)\n\n# Draw dart board\nt.up()\nt.goto(-11,-11)\nt.down()\nt.pensize(3)\nt.goto(-11,11)\nt.goto(11,11)\nt.goto(11,-11)\nt.goto(-11,-11)\nt.up()\n# Draw orange lines\nt.up()\nx = -11\ny = -9\nt.goto(x,y)\nt.pensize(1)\nt.color(\"blue\")\nt.down()\n# Using for loop to draw orange lines\nfor I in range(10):\n    if I % 2 == 0:\n        t.down()\n        x = x + 22\n        t.goto(x,y)\n        t.up()\n        y = y + 2\n        t.goto(x,y)\n    else:\n        t.down()\n        x = x - 22\n        t.goto(x,y)\n        t.up()\n        y = y + 2\n        t.goto(x,y)\n\n# Setting up variables\nhits = 0\n# Do math\ntheta = random.randint(0,180)\nyCenter = random.uniform(-10,10)\nyBottom = yCenter - (math.sin(math.radians(theta)) / 2)\nyTop = yCenter + (math.sin(math.radians(theta)) / 2)\nxCenter = random.uniform(-10,10)\nxBottom = xCenter - (math.cos(math.radians(theta)) / 2)\nxTop = xCenter + (math.cos(math.radians(theta)) / 2) \n# Simualtion    \nfor I in range(0,tries):\n    # Check if needle's top or bottom crossed one of the 4 lines\n    # If yes draw a red needle\n    if yBottom % 2 == 1 or yTop % 2 == 1:\n        hits = hits + 1\n        t.up()\n        t.color(\"red\")\n        t.goto(xBottom,yBottom)\n        t.down()\n        t.goto(xTop,yTop)\n        t.up()\n    elif yBottom < -9 and yTop > -9:\n        hits = hits + 1\n        t.up()\n        t.color(\"red\")\n        t.goto(xBottom,yBottom)\n        t.down()\n        t.goto(xTop,yTop)\n        t.up()       \n    elif yBottom < -7 and yTop > -7:\n        hits = hits + 1\n        t.up()\n        t.color(\"red\")\n        t.goto(xBottom,yBottom)\n        t.down()\n        t.goto(xTop,yTop)\n        t.up()            \n    elif yBottom < -5 and yTop > -5:\n        hits = hits + 1\n        t.up()\n        t.color(\"red\")\n        t.goto(xBottom,yBottom)\n        t.down()\n        t.goto(xTop,yTop)\n        t.up()       \n    elif yBottom < -3 and yTop > -3:\n        hits = hits + 1   \n        t.up()\n        t.color(\"red\")\n        t.goto(xBottom,yBottom)\n        t.down()\n        t.goto(xTop,yTop)\n        t.up()    \n    elif yBottom < -1 and yTop > -1:\n        hits = hits + 1\n        t.up()\n        t.color(\"red\")\n        t.goto(xBottom,yBottom)\n        t.down()\n        t.goto(xTop,yTop)\n        t.up()            \n    elif yBottom < 1 and yTop > 1:\n        hits = hits + 1\n        t.up()\n        t.color(\"red\")\n        t.goto(xBottom,yBottom)\n        t.down()\n        t.goto(xTop,yTop)\n        t.up()            \n    elif yBottom < 3 and yTop > 3:\n        hits = hits + 1\n        t.up()\n        t.color(\"red\")\n        t.goto(xBottom,yBottom)\n        t.down()\n        t.goto(xTop,yTop)\n        t.up()            \n    elif yBottom < 5 and yTop > 5:\n        hits = hits + 1\n        t.up()\n        t.color(\"red\")\n        t.goto(xBottom,yBottom)\n        t.down()\n        t.goto(xTop,yTop)\n        t.up()            \n    elif yBottom < 7 and yTop > 7:\n        hits = hits + 1\n        t.up()\n        t.color(\"red\")\n        t.goto(xBottom,yBottom)\n        t.down()\n        t.goto(xTop,yTop)\n        t.up()            \n    elif yBottom < 9 and yTop > 9:\n        hits = hits + 1   \n        t.up()\n        t.color(\"red\")\n        t.goto(xBottom,yBottom)\n        t.down()\n        t.goto(xTop,yTop)\n        t.up()            \n    else:\n        # Draw blue needle\n        t.up()\n        t.color(\"black\")\n        t.goto(xBottom,yBottom)\n        t.down()\n        t.goto(xTop,yTop)\n        t.up()         \n    # Pick new values for simulation\n    theta = random.randint(0,180)\n    yCenter = random.uniform(-10,10)\n    yBottom = yCenter - (math.sin(math.radians(theta)) / 2)\n    yTop = yCenter + (math.sin(math.radians(theta)) / 2)\n    xCenter = random.uniform(-10,10)\n    xBottom = xCenter - (math.cos(math.radians(theta)) / 2)\n    xTop = xCenter + (math.cos(math.radians(theta)) / 2) \n\n# Calculate pi\nif hits == 0 :\n    pi = 0\nelse:\n    pi = tries / hits\n        \nt.up\nt.color(\"black\")\nt.goto(0,-11)\nmessage = \"Number of needles = \" + str(tries) + \", Pi = \" + str(pi)\nt.write(message, False, 'center', ('Arial', 16, 'bold'))\n\n# Turtle done\nturtle.done()\nmain()"
  },
  {
   "cell_type": "code",
   "execution_count": null,
   "metadata": {},
   "outputs": [],
   "source": ""
  },
  {
   "cell_type": "code",
   "execution_count": null,
   "metadata": {},
   "outputs": [],
   "source": ""
  }
 ],
 "metadata": {
  "kernelspec": {
   "display_name": "Python 2",
   "language": "python",
   "name": "python2"
  },
  "language_info": {
   "codemirror_mode": {
    "name": "ipython",
    "version": 2
   },
   "file_extension": ".py",
   "mimetype": "text/x-python",
   "name": "python",
   "nbconvert_exporter": "python",
   "pygments_lexer": "ipython2",
   "version": "2.7.15+"
  }
 },
 "nbformat": 4,
 "nbformat_minor": 2
}
