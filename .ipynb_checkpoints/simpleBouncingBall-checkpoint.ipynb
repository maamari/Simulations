{
 "cells": [
  {
   "cell_type": "code",
   "execution_count": null,
   "metadata": {},
   "outputs": [],
   "source": [
    "import turtle\n",
    "\n",
    "# Set up turtle screen\n",
    "t = turtle.Screen()\n",
    "\n",
    "# Create ball\n",
    "ball = turtle.Turtle()\n",
    "ball.shape(\"circle\")\n",
    "ball.penup()\n",
    "ball.speed(0)\n",
    "ball.dy = 0\n",
    "\n",
    "# Update ball according to gravitational constant\n",
    "gravity = 0.98/2\n",
    "while(1):\n",
    "    ball.dy -= gravity\n",
    "    ball.sety(ball.ycor()+ball.dy)\n",
    "    if(ball.ycor()<-500):\n",
    "        ball.dy*=-1\n",
    "        \n",
    "t.exitonclick()"
   ]
  },
  {
   "cell_type": "code",
   "execution_count": null,
   "metadata": {},
   "outputs": [],
   "source": []
  }
 ],
 "metadata": {
  "kernelspec": {
   "display_name": "Python 3",
   "language": "python",
   "name": "python3"
  },
  "language_info": {
   "codemirror_mode": {
    "name": "ipython",
    "version": 3
   },
   "file_extension": ".py",
   "mimetype": "text/x-python",
   "name": "python",
   "nbconvert_exporter": "python",
   "pygments_lexer": "ipython3",
   "version": "3.6.10"
  }
 },
 "nbformat": 4,
 "nbformat_minor": 2
}
