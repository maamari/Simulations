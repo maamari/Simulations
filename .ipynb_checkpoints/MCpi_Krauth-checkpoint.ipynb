{
 "cells": [
  {
   "cell_type": "code",
   "execution_count": 4,
   "metadata": {},
   "outputs": [],
   "source": [
    "# Following book by W Krauth:\n",
    "# \"Statistical Mechanics Algorithms and Computations\"\n",
    "\n",
    "import math, random, turtle\n",
    "\n",
    "\n",
    "# Set up turtle window\n",
    "radius = 200.\n",
    "turtle.hideturtle()\n",
    "turtle.speed(1000)\n",
    "turtle.penup()\n",
    "turtle.setposition(0, radius+10)\n",
    "turtle.write(\"MCpi\", True, align=\"center\", font=(\"Arial\", 14, \"normal\"))\n",
    "turtle.setposition(0, -radius)\n",
    "turtle.pendown()\n",
    "turtle.forward(radius)\n",
    "turtle.left(90)\n",
    "turtle.forward(radius*2)\n",
    "turtle.left(90)\n",
    "turtle.forward(radius*2)\n",
    "turtle.left(90)\n",
    "turtle.forward(radius*2)\n",
    "turtle.left(90)\n",
    "turtle.forward(radius)\n",
    "turtle.circle(radius)\n",
    "\n",
    "\n",
    "# Plot random dots\n",
    "tries = 50\n",
    "def random_dots():\n",
    "    # Count of num dots inside circle\n",
    "    inside = 0.\n",
    "    for i in range(tries):\n",
    "        # Randomize position\n",
    "        rand_x = random.randint(-radius,radius)\n",
    "        rand_y = random.randint(-radius,radius)\n",
    "        turtle.penup()\n",
    "        turtle.setposition(rand_x, rand_y)\n",
    "        # Draw the dot\n",
    "        if math.sqrt(math.pow(rand_x,2)+math.pow(rand_y,2))<radius:\n",
    "            turtle.dot(\"red\")\n",
    "            inside=inside+1.\n",
    "        else:\n",
    "            turtle.dot(\"blue\") \n",
    "    return inside/tries\n",
    "\n",
    "# Determine and write value of pi\n",
    "pi = random_dots()*4.0\n",
    "message = \"Pi = \" + str(pi)\n",
    "turtle.write(message, False, 'center', ('Arial', 16, 'bold'))"
   ]
  },
  {
   "cell_type": "code",
   "execution_count": null,
   "metadata": {},
   "outputs": [],
   "source": []
  }
 ],
 "metadata": {
  "kernelspec": {
   "display_name": "Python 3",
   "language": "python",
   "name": "python3"
  },
  "language_info": {
   "codemirror_mode": {
    "name": "ipython",
    "version": 3
   },
   "file_extension": ".py",
   "mimetype": "text/x-python",
   "name": "python",
   "nbconvert_exporter": "python",
   "pygments_lexer": "ipython3",
   "version": "3.6.10"
  }
 },
 "nbformat": 4,
 "nbformat_minor": 2
}
