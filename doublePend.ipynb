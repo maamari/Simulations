{
 "cells": [
  {
   "cell_type": "code",
   "execution_count": 1,
   "metadata": {},
   "outputs": [
    {
     "data": {
      "application/javascript": [
       "if (typeof Jupyter !== \"undefined\") {require.undef(\"nbextensions/vpython_libraries/glow.min\");}else{element.textContent = ' ';}"
      ],
      "text/plain": [
       "<IPython.core.display.Javascript object>"
      ]
     },
     "metadata": {},
     "output_type": "display_data"
    },
    {
     "data": {
      "application/javascript": [
       "if (typeof Jupyter !== \"undefined\") {require.undef(\"nbextensions/vpython_libraries/glowcomm\");}else{element.textContent = ' ';}"
      ],
      "text/plain": [
       "<IPython.core.display.Javascript object>"
      ]
     },
     "metadata": {},
     "output_type": "display_data"
    },
    {
     "data": {
      "application/javascript": [
       "if (typeof Jupyter !== \"undefined\") {require.undef(\"nbextensions/vpython_libraries/jquery-ui.custom.min\");}else{element.textContent = ' ';}"
      ],
      "text/plain": [
       "<IPython.core.display.Javascript object>"
      ]
     },
     "metadata": {},
     "output_type": "display_data"
    },
    {
     "data": {
      "application/javascript": [
       "if (typeof Jupyter !== \"undefined\") {require([\"nbextensions/vpython_libraries/glow.min\"], function(){console.log(\"GLOW LOADED\");});}else{element.textContent = ' ';}"
      ],
      "text/plain": [
       "<IPython.core.display.Javascript object>"
      ]
     },
     "metadata": {},
     "output_type": "display_data"
    },
    {
     "data": {
      "application/javascript": [
       "if (typeof Jupyter !== \"undefined\") {require([\"nbextensions/vpython_libraries/glowcomm\"], function(){console.log(\"GLOWCOMM LOADED\");});}else{element.textContent = ' ';}"
      ],
      "text/plain": [
       "<IPython.core.display.Javascript object>"
      ]
     },
     "metadata": {},
     "output_type": "display_data"
    },
    {
     "data": {
      "application/javascript": [
       "if (typeof Jupyter !== \"undefined\") {require([\"nbextensions/vpython_libraries/jquery-ui.custom.min\"], function(){console.log(\"JQUERY LOADED\");});}else{element.textContent = ' ';}"
      ],
      "text/plain": [
       "<IPython.core.display.Javascript object>"
      ]
     },
     "metadata": {},
     "output_type": "display_data"
    },
    {
     "data": {
      "text/html": [
       "<div id=\"glowscript\" class=\"glowscript\"></div>"
      ],
      "text/plain": [
       "<IPython.core.display.HTML object>"
      ]
     },
     "metadata": {},
     "output_type": "display_data"
    },
    {
     "data": {
      "application/javascript": [
       "if (typeof Jupyter !== \"undefined\") { window.__context = { glowscript_container: $(\"#glowscript\").removeAttr(\"id\")};}else{ element.textContent = ' ';}"
      ],
      "text/plain": [
       "<IPython.core.display.Javascript object>"
      ]
     },
     "metadata": {},
     "output_type": "display_data"
    }
   ],
   "source": [
    "from vpython import *\n",
    "#GlowScript 2.6 VPython\n",
    "#f1=gcurve()\n",
    "#fT=gcurve(color=color.red)\n",
    "#fU=gcurve(color=color.blue)\n",
    "\n",
    "L1=1\n",
    "L2=1\n",
    "\n",
    "pivot=sphere(pos=vector(0,L1,0), radius=0.05)\n",
    "\n",
    "m1=sphere(pos=pivot.pos-vector(0,L1,0),radius=0.05,color=color.yellow)\n",
    "stick1=cylinder(pos=pivot.pos,axis=m1.pos-pivot.pos,radius=0.015,color=color.red)\n",
    "\n",
    "m2=sphere(pos=m1.pos-vector(0,L2,0),radius=0.05,color=color.yellow)\n",
    "stick2=cylinder(pos=m1.pos, axis=m2.pos-m1.pos, radius=0.015,color=color.blue)\n",
    "\n",
    "M1=1\n",
    "M2=1\n",
    "\n",
    "g=9.8\n",
    "theta1=90*pi/180\n",
    "theta2=90*pi/180\n",
    "theta1dot=0\n",
    "theta2dot=0\n",
    "\n",
    "m1.pos=pivot.pos+vector(L1*sin(theta1),-L1*cos(theta1),0)\n",
    "m2.pos=m1.pos+vector(L2*sin(theta2),-L2*cos(theta2),0)\n",
    "stick1.axis=m1.pos-pivot.pos\n",
    "stick2.pos=m1.pos\n",
    "stick2.axis=m2.pos-m1.pos\n",
    "\n",
    "a=(M1+M2)*L1**2\n",
    "b=M2*L1*L2\n",
    "c=-(M1+M2)*g*L1*theta1\n",
    "d=M2*L1*L2\n",
    "k=M2*L2**2\n",
    "f=-M2*g*L2*theta2\n",
    "\n",
    "t=0\n",
    "dt=0.00005\n",
    "attach_trail(m2, retain=100)\n",
    "while t<200:\n",
    "    rate(10000)\n",
    "    a=(M1+M2)*L1**2\n",
    "    b=M2*L1*L2\n",
    "    c=-(M1+M2)*g*L1*theta1\n",
    "    d=M2*L1*L2\n",
    "    k=M2*L2**2\n",
    "    f=-M2*g*L2*theta2\n",
    "    \n",
    "    theta1ddot=(-g*(2*M1+M2)*sin(theta1)-M2*g*sin(theta1-2*theta2)-2*sin(theta1-theta2)*M2*(L2*theta2dot**2+L1*cos(theta1-theta2)*theta1dot**2))/(L1*(2*M1+M2-M2*cos(2*theta1-2*theta2)))\n",
    "    theta2ddot=(2*sin(theta1-theta2)*((M1+M2)*L1*theta1dot**2+g*(M1+M2)*cos(theta1)+L2*M2*cos(theta1-theta2)*theta2dot**2))/(L2*(2*M1+M2-M2*cos(2*theta1-2*theta2)))\n",
    "    theta2dot=theta2dot+theta2ddot*dt\n",
    "    theta1dot=theta1dot+theta1ddot*dt\n",
    "    theta1=theta1+theta1dot*dt\n",
    "    theta2=theta2+theta2dot*dt\n",
    "    m1.pos=pivot.pos+vector(L1*sin(theta1),-L1*cos(theta1),0)\n",
    "    m2.pos=m1.pos+vector(L2*sin(theta2),-L2*cos(theta2),0)\n",
    "    stick1.axis=m1.pos-pivot.pos\n",
    "    stick2.pos=m1.pos\n",
    "    stick2.axis=m2.pos-m1.pos\n",
    "    t=t+dt\n",
    "    x1=L1*sin(theta1)\n",
    "    y1=-L1*cos(theta1)\n",
    "    x1dot=L1*theta1dot*cos(theta1)\n",
    "    y1dot=L1*theta1dot*sin(theta1)\n",
    "    x2=x1+L2*sin(theta2)\n",
    "    y2=y1-L2*cos(theta2)\n",
    "    x2dot=L1*theta1dot*cos(theta1)+L2*theta2dot*cos(theta2)\n",
    "    y2dot=L1*theta1dot*sin(theta1)+L2*theta2dot*sin(theta2)\n",
    "    T=.5*M1*(x1dot**2+y1dot**2)+.5*M2*(x2dot**2+y2dot**2)\n",
    "    U=M1*g*y1+M2*g*y2\n",
    "    \n",
    "    \n",
    "    E=T+U\n",
    "#   f1.plot(t,E)\n",
    "#   fT.plot(t,T)\n",
    "#   fU.plot(t,U)\n"
   ]
  },
  {
   "cell_type": "code",
   "execution_count": null,
   "metadata": {},
   "outputs": [],
   "source": []
  }
 ],
 "metadata": {
  "kernelspec": {
   "display_name": "VPython",
   "language": "python",
   "name": "vpython"
  },
  "language_info": {
   "codemirror_mode": {
    "name": "ipython",
    "version": 2
   },
   "file_extension": ".py",
   "mimetype": "text/x-python",
   "name": "python",
   "nbconvert_exporter": "python",
   "pygments_lexer": "ipython2",
   "version": "2.7.15+"
  }
 },
 "nbformat": 4,
 "nbformat_minor": 2
}
